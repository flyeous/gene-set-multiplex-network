{
 "cells": [
  {
   "cell_type": "markdown",
   "id": "e53842bd",
   "metadata": {},
   "source": [
    "<a class=\"anchor\" id=\"5\"></a>\n",
    "#### Content\n",
    "* [Prepare required files for generating the multiplex network](#1)\n",
    "    * [gene sets (e.g., GO-BP)](#2)\n",
    "    * [processed scRNAseq dataset with distinct populations of cells (e.g., PBMC)](#3)\n",
    "        \n",
    "* [Run the demo function to quantify the similarities among gene sets via the KNN-based similarity measure](#4)"
   ]
  },
  {
   "cell_type": "code",
   "execution_count": 2,
   "id": "69499946",
   "metadata": {},
   "outputs": [],
   "source": [
    "from src import demo\n",
    "import numpy as np\n",
    "from gsea_api.molecular_signatures_db import GeneSets\n",
    "import scanpy as sc\n",
    "import json\n",
    "import anndata"
   ]
  },
  {
   "cell_type": "markdown",
   "id": "98d38a50",
   "metadata": {},
   "source": [
    "<a class=\"anchor\" id=\"1\"></a>\n",
    "I. Inputs for building a multiplex newtork of gene sets (via KNN similarity measure):\\\n",
    "     $\\qquad$ a. gene sets (e.g., GO biology process)\\\n",
    "     $\\qquad$ b. a scRNAseq dataset (e.g., PBMC3000) that consists of several cell populations\n"
   ]
  },
  {
   "cell_type": "markdown",
   "id": "e38b4d2e",
   "metadata": {},
   "source": [
    "<a class=\"anchor\" id=\"2\"></a>"
   ]
  },
  {
   "cell_type": "code",
   "execution_count": 3,
   "id": "0c0305e7",
   "metadata": {},
   "outputs": [],
   "source": [
    "'''\n",
    "The contents in BP.json, BP.TERM.json files include gene sets' IDs, names, constituent genes, description information \n",
    "(retrieved from gseGO/GO.db). \n",
    "'''\n",
    "with open(\"BP.json\") as f:\n",
    "    BP:dict = json.load(f)\n",
    "with open(\"BP.TERM.json\") as f:\n",
    "    BP_term:dict = json.load(f)"
   ]
  },
  {
   "cell_type": "code",
   "execution_count": 4,
   "id": "ccf765bd",
   "metadata": {},
   "outputs": [
    {
     "name": "stdout",
     "output_type": "stream",
     "text": [
      "GO_BP database has 16029 gene sets.\n"
     ]
    }
   ],
   "source": [
    "GO_BP_ID = list(BP.keys())\n",
    "GO_BP_gs_name = BP_term \n",
    "GO_BP_gene_set = list(BP.values())\n",
    "print(f\"GO_BP database has {len(GO_BP_gene_set )} gene sets.\")"
   ]
  },
  {
   "cell_type": "code",
   "execution_count": 5,
   "id": "45a9ebcd",
   "metadata": {},
   "outputs": [],
   "source": [
    "gene_set_dict:dict = {'gene_set_gene_symbols':GO_BP_gene_set, 'gene_set_annotation':GO_BP_gs_name,\\\n",
    "                 'gene_set_collection_name':'GO-BP'}"
   ]
  },
  {
   "cell_type": "code",
   "execution_count": 5,
   "id": "4f8465a2",
   "metadata": {
    "scrolled": true
   },
   "outputs": [
    {
     "ename": "FileNotFoundError",
     "evalue": "[Errno 2] No such file or directory: 'c5.go.bp.v2023.1.Hs.symbols.gmt'",
     "output_type": "error",
     "traceback": [
      "\u001b[0;31m---------------------------------------------------------------------------\u001b[0m",
      "\u001b[0;31mFileNotFoundError\u001b[0m                         Traceback (most recent call last)",
      "Cell \u001b[0;32mIn[5], line 9\u001b[0m\n\u001b[1;32m      1\u001b[0m \u001b[38;5;124;03m'''\u001b[39;00m\n\u001b[1;32m      2\u001b[0m \u001b[38;5;124;03mAlternatively, the GO-BP dataset (e.g., .gmt file) can be downloaded from Broad Insitute or other resources \u001b[39;00m\n\u001b[1;32m      3\u001b[0m \u001b[38;5;124;03mand loaded by the Python package gsea_api. \u001b[39;00m\n\u001b[0;32m   (...)\u001b[0m\n\u001b[1;32m      7\u001b[0m \u001b[38;5;124;03m    b. The GO dataset's content from Broad Institute differs from the above due to different selection criteria. \u001b[39;00m\n\u001b[1;32m      8\u001b[0m \u001b[38;5;124;03m'''\u001b[39;00m\n\u001b[0;32m----> 9\u001b[0m GO_BP_gene_set \u001b[38;5;241m=\u001b[39m GeneSets\u001b[38;5;241m.\u001b[39mfrom_gmt(\u001b[38;5;124m'\u001b[39m\u001b[38;5;124mc5.go.bp.v2023.1.Hs.symbols.gmt\u001b[39m\u001b[38;5;124m'\u001b[39m)\n\u001b[1;32m     10\u001b[0m GO_BP_gs_name \u001b[38;5;241m=\u001b[39m [item\u001b[38;5;241m.\u001b[39mname \u001b[38;5;28;01mfor\u001b[39;00m item \u001b[38;5;129;01min\u001b[39;00m GO_BP_gene_set\u001b[38;5;241m.\u001b[39mgene_sets]\n\u001b[1;32m     11\u001b[0m GO_BP_gene_set \u001b[38;5;241m=\u001b[39m [\u001b[38;5;28mlist\u001b[39m(GO_BP_gene_set\u001b[38;5;241m.\u001b[39mgene_sets[i]\u001b[38;5;241m.\u001b[39mgenes) \u001b[38;5;28;01mfor\u001b[39;00m i \u001b[38;5;129;01min\u001b[39;00m \u001b[38;5;28mrange\u001b[39m(\u001b[38;5;28mlen\u001b[39m(GO_BP_gene_set\u001b[38;5;241m.\u001b[39mgene_sets))]\n",
      "File \u001b[0;32m~/anaconda3/envs/gs/lib/python3.11/site-packages/gsea_api/molecular_signatures_db.py:110\u001b[0m, in \u001b[0;36mGeneSets.from_gmt\u001b[0;34m(cls, path, name, **kwargs)\u001b[0m\n\u001b[1;32m    108\u001b[0m \u001b[38;5;129m@classmethod\u001b[39m\n\u001b[1;32m    109\u001b[0m \u001b[38;5;28;01mdef\u001b[39;00m \u001b[38;5;21mfrom_gmt\u001b[39m(\u001b[38;5;28mcls\u001b[39m, path, name\u001b[38;5;241m=\u001b[39m\u001b[38;5;28;01mNone\u001b[39;00m, \u001b[38;5;241m*\u001b[39m\u001b[38;5;241m*\u001b[39mkwargs):\n\u001b[0;32m--> 110\u001b[0m     \u001b[38;5;28;01mwith\u001b[39;00m \u001b[38;5;28mopen\u001b[39m(path) \u001b[38;5;28;01mas\u001b[39;00m f:\n\u001b[1;32m    111\u001b[0m         \u001b[38;5;28;01mreturn\u001b[39;00m \u001b[38;5;28mcls\u001b[39m(\n\u001b[1;32m    112\u001b[0m             {\n\u001b[1;32m    113\u001b[0m                 GeneSet\u001b[38;5;241m.\u001b[39mfrom_gmt_line(line, warn_if_empty\u001b[38;5;241m=\u001b[39m\u001b[38;5;28;01mFalse\u001b[39;00m)\n\u001b[0;32m   (...)\u001b[0m\n\u001b[1;32m    118\u001b[0m             \u001b[38;5;241m*\u001b[39m\u001b[38;5;241m*\u001b[39mkwargs\n\u001b[1;32m    119\u001b[0m         )\n",
      "\u001b[0;31mFileNotFoundError\u001b[0m: [Errno 2] No such file or directory: 'c5.go.bp.v2023.1.Hs.symbols.gmt'"
     ]
    }
   ],
   "source": [
    "'''\n",
    "Alternatively, the GO-BP dataset (e.g., .gmt file) can be downloaded from Broad Insitute or other resources \n",
    "and loaded by the Python package gsea_api. \n",
    "Notice that,\n",
    "    a. the order of the loaded gene sets is not deterministic, \n",
    "which may cause errors in the downstream analysis if being reckless of the indices of the gene sets.\n",
    "    b. The GO dataset's content from Broad Institute differs from the above due to different selection criteria. \n",
    "'''\n",
    "GO_BP_gene_set = GeneSets.from_gmt('c5.go.bp.v2023.1.Hs.symbols.gmt')\n",
    "GO_BP_gs_name = [item.name for item in GO_BP_gene_set.gene_sets]\n",
    "GO_BP_gene_set = [list(GO_BP_gene_set.gene_sets[i].genes) for i in range(len(GO_BP_gene_set.gene_sets))]\n",
    "print(f\"GO-BP database has {len(GO_BP_gene_set )} gene sets.\")"
   ]
  },
  {
   "cell_type": "markdown",
   "id": "8658cc9a",
   "metadata": {},
   "source": [
    "[Back](#5)\n",
    "$~$\n",
    "<a class=\"anchor\" id=\"3\"></a>"
   ]
  },
  {
   "cell_type": "code",
   "execution_count": 6,
   "id": "9e47bdab",
   "metadata": {},
   "outputs": [],
   "source": [
    "### processed single-cell log-count dataset\n",
    "scRNAseq:anndata.AnnData = sc.read_h5ad(\"pbmc3k.h5ad\")"
   ]
  },
  {
   "cell_type": "code",
   "execution_count": 7,
   "id": "babaf809",
   "metadata": {},
   "outputs": [
    {
     "data": {
      "text/plain": [
       "(array(['B', 'CD14+ Mono', 'CD8 T', 'DC', 'FCGR3A+ Mono', 'Memory CD4 T',\n",
       "        'NK', 'Naive CD4 T', 'Platelet'], dtype=object),\n",
       " array([344, 480, 271,  32, 162, 483, 155, 697,  14]))"
      ]
     },
     "execution_count": 7,
     "metadata": {},
     "output_type": "execute_result"
    }
   ],
   "source": [
    "np.unique(scRNAseq.obs['cell.type'], return_counts = True)"
   ]
  },
  {
   "cell_type": "code",
   "execution_count": 8,
   "id": "8a80d18e",
   "metadata": {},
   "outputs": [],
   "source": [
    "### filter cell types with a small sample size\n",
    "cell_label = ['B', 'CD14+ Mono', 'CD8 T','Memory CD4 T', 'Naive CD4 T']"
   ]
  },
  {
   "cell_type": "code",
   "execution_count": 9,
   "id": "59dda060",
   "metadata": {},
   "outputs": [],
   "source": [
    "processed_scRNAseq_obj_lst:list = [scRNAseq[(scRNAseq.obs['cell.type'] == cell)] for cell in cell_label]"
   ]
  },
  {
   "cell_type": "markdown",
   "id": "30d252f6",
   "metadata": {},
   "source": [
    "$~$"
   ]
  },
  {
   "cell_type": "markdown",
   "id": "eb40eb56",
   "metadata": {},
   "source": [
    "II. Input the created files (gene_set_dict, processed_scRNAseq_obj_lst) to the demo function:gene_set_similarity_multiplex_network\n",
    "will return a multiplex network object (large) with intermediate files stored in a folder 'GO_BP' whose name can be arbitrary.\n",
    "\n",
    "The process takes a long time (2 hours) depending on the sample size, number of gene sets, cores, CPU capability, memory size, hyperparameters in the KNN model (e.g., k), etc.\n",
    "<a class=\"anchor\" id=\"4\"></a>"
   ]
  },
  {
   "cell_type": "code",
   "execution_count": 10,
   "id": "b0381525",
   "metadata": {
    "scrolled": true
   },
   "outputs": [
    {
     "name": "stdout",
     "output_type": "stream",
     "text": [
      "Population B has been instantiated.\n"
     ]
    },
    {
     "name": "stderr",
     "output_type": "stream",
     "text": [
      "100%|████████████████████████████████████████████████████████████████████████████| 16029/16029 [00:26<00:00, 599.95it/s]\n"
     ]
    },
    {
     "name": "stdout",
     "output_type": "stream",
     "text": [
      "5336 over 16029 pass the filteration!\n",
      "Finding k-nearest neighbors of gene sets...\n"
     ]
    },
    {
     "name": "stderr",
     "output_type": "stream",
     "text": [
      "100%|███████████████████████████████████████████████████████████████████████████████| 5336/5336 [03:09<00:00, 28.14it/s]"
     ]
    },
    {
     "name": "stdout",
     "output_type": "stream",
     "text": [
      "Computing the similarity matrix...\n"
     ]
    },
    {
     "name": "stderr",
     "output_type": "stream",
     "text": [
      "\n"
     ]
    },
    {
     "name": "stdout",
     "output_type": "stream",
     "text": [
      "Complete!\n",
      "The pipeline for B finishes!\n",
      "Population CD14+ Mono has been instantiated.\n"
     ]
    },
    {
     "name": "stderr",
     "output_type": "stream",
     "text": [
      "100%|████████████████████████████████████████████████████████████████████████████| 16029/16029 [00:33<00:00, 480.18it/s]\n"
     ]
    },
    {
     "name": "stdout",
     "output_type": "stream",
     "text": [
      "5336 over 16029 pass the filteration!\n",
      "Finding k-nearest neighbors of gene sets...\n"
     ]
    },
    {
     "name": "stderr",
     "output_type": "stream",
     "text": [
      "100%|███████████████████████████████████████████████████████████████████████████████| 5336/5336 [03:04<00:00, 28.89it/s]"
     ]
    },
    {
     "name": "stdout",
     "output_type": "stream",
     "text": [
      "Computing the similarity matrix...\n"
     ]
    },
    {
     "name": "stderr",
     "output_type": "stream",
     "text": [
      "\n"
     ]
    },
    {
     "name": "stdout",
     "output_type": "stream",
     "text": [
      "Complete!\n",
      "The pipeline for CD14+ Mono finishes!\n",
      "Population CD8 T has been instantiated.\n"
     ]
    },
    {
     "name": "stderr",
     "output_type": "stream",
     "text": [
      "100%|████████████████████████████████████████████████████████████████████████████| 16029/16029 [00:26<00:00, 609.17it/s]\n"
     ]
    },
    {
     "name": "stdout",
     "output_type": "stream",
     "text": [
      "5336 over 16029 pass the filteration!\n",
      "Finding k-nearest neighbors of gene sets...\n"
     ]
    },
    {
     "name": "stderr",
     "output_type": "stream",
     "text": [
      "100%|███████████████████████████████████████████████████████████████████████████████| 5336/5336 [03:01<00:00, 29.43it/s]"
     ]
    },
    {
     "name": "stdout",
     "output_type": "stream",
     "text": [
      "Computing the similarity matrix...\n"
     ]
    },
    {
     "name": "stderr",
     "output_type": "stream",
     "text": [
      "\n"
     ]
    },
    {
     "name": "stdout",
     "output_type": "stream",
     "text": [
      "Complete!\n",
      "The pipeline for CD8 T finishes!\n",
      "Population Memory CD4 T has been instantiated.\n"
     ]
    },
    {
     "name": "stderr",
     "output_type": "stream",
     "text": [
      "100%|████████████████████████████████████████████████████████████████████████████| 16029/16029 [00:36<00:00, 437.87it/s]\n"
     ]
    },
    {
     "name": "stdout",
     "output_type": "stream",
     "text": [
      "5336 over 16029 pass the filteration!\n",
      "Finding k-nearest neighbors of gene sets...\n"
     ]
    },
    {
     "name": "stderr",
     "output_type": "stream",
     "text": [
      "100%|███████████████████████████████████████████████████████████████████████████████| 5336/5336 [03:15<00:00, 27.32it/s]"
     ]
    },
    {
     "name": "stdout",
     "output_type": "stream",
     "text": [
      "Computing the similarity matrix...\n"
     ]
    },
    {
     "name": "stderr",
     "output_type": "stream",
     "text": [
      "\n"
     ]
    },
    {
     "name": "stdout",
     "output_type": "stream",
     "text": [
      "Complete!\n",
      "The pipeline for Memory CD4 T finishes!\n",
      "Population Naive CD4 T has been instantiated.\n"
     ]
    },
    {
     "name": "stderr",
     "output_type": "stream",
     "text": [
      "100%|████████████████████████████████████████████████████████████████████████████| 16029/16029 [00:46<00:00, 347.03it/s]\n"
     ]
    },
    {
     "name": "stdout",
     "output_type": "stream",
     "text": [
      "5336 over 16029 pass the filteration!\n",
      "Finding k-nearest neighbors of gene sets...\n"
     ]
    },
    {
     "name": "stderr",
     "output_type": "stream",
     "text": [
      "100%|███████████████████████████████████████████████████████████████████████████████| 5336/5336 [03:39<00:00, 24.31it/s]"
     ]
    },
    {
     "name": "stdout",
     "output_type": "stream",
     "text": [
      "Computing the similarity matrix...\n"
     ]
    },
    {
     "name": "stderr",
     "output_type": "stream",
     "text": [
      "\n"
     ]
    },
    {
     "name": "stdout",
     "output_type": "stream",
     "text": [
      "Complete!\n",
      "The pipeline for Naive CD4 T finishes!\n"
     ]
    }
   ],
   "source": [
    "'''\n",
    "We filter gene sets with their number of sequenced genes outside the range of 10 to 2000. \n",
    "Those bounds can be adjusted customarily. If more than 90% of cells in a gene-set feature space have all-zero counts,\n",
    "this gene set will also be filtered since obtaining a meaningful similarity based on too-sparse signals is difficult.\n",
    "\n",
    "The implemented normalized KNN similarity measure uses $k = \\sqrt{N}$, \n",
    "\"auto\" algorithm, and L2 metric as the default setting. \n",
    "'''\n",
    "nt = demo.gene_set_similarity_multiplex_network(processed_scRNAseq_obj_lst, population_labels = cell_label,\\\n",
    "                  num_core = 30, gene_set_dict = gene_set_dict, output_folder = 'GO_BP')"
   ]
  },
  {
   "cell_type": "code",
   "execution_count": null,
   "id": "de8a1a9a-c8e6-44c0-810a-7b719dd9ce1d",
   "metadata": {},
   "outputs": [
    {
     "name": "stdout",
     "output_type": "stream",
     "text": [
      "Population B has been instantiated.\n"
     ]
    },
    {
     "name": "stderr",
     "output_type": "stream",
     "text": [
      "100%|████████████████████████████████████| 16029/16029 [01:02<00:00, 257.55it/s]\n"
     ]
    },
    {
     "name": "stdout",
     "output_type": "stream",
     "text": [
      "5336 over 16029 pass the filteration!\n",
      "Finding k-nearest neighbors of gene sets...\n"
     ]
    },
    {
     "name": "stderr",
     "output_type": "stream",
     "text": [
      "100%|███████████████████████████████████████| 5336/5336 [04:07<00:00, 21.52it/s]"
     ]
    },
    {
     "name": "stdout",
     "output_type": "stream",
     "text": [
      "Computing the similarity matrix...\n"
     ]
    },
    {
     "name": "stderr",
     "output_type": "stream",
     "text": [
      "\n"
     ]
    }
   ],
   "source": [
    "'''\n",
    "We filter gene sets with their number of sequenced genes outside the range of 10 to 2000. \n",
    "Those bounds can be adjusted customarily. If more than 90% of cells in a gene-set feature space have all-zero counts,\n",
    "this gene set will also be filtered since obtaining a meaningful similarity based on too-sparse signals is difficult.\n",
    "\n",
    "The implemented normalized KNN similarity measure uses $k = \\sqrt{N}$, \n",
    "\"auto\" algorithm, and L2 metric as the default setting. \n",
    "'''\n",
    "nt = demo.gene_set_similarity_multiplex_network(processed_scRNAseq_obj_lst, population_labels = cell_label,\\\n",
    "                  num_core = 10, gene_set_dict = gene_set_dict, output_folder = 'GO_BP')"
   ]
  },
  {
   "cell_type": "markdown",
   "id": "cdf0241b",
   "metadata": {},
   "source": [
    "[Back](#5)\n",
    "$~$"
   ]
  },
  {
   "cell_type": "code",
   "execution_count": 11,
   "id": "075d9463",
   "metadata": {},
   "outputs": [],
   "source": [
    "'''\n",
    "With those intermediate files (tissue objects), we can build the multiplex network \n",
    "when needed rather than storing it as a large file.\n",
    "Ensure the 'GO_BP' folder is a subfolder of the current working directory. \n",
    "Or cd into 'GO_BP' and remove the folder argument in the following statement.\n",
    "'''\n",
    "\n",
    "# nt = demo.tissue_obj_multiplex_network(collection = \"GO-BP\", labels = None, folder = 'GO_BP')"
   ]
  }
 ],
 "metadata": {
  "hide_input": false,
  "kernelspec": {
   "display_name": "gs",
   "language": "python",
   "name": "gs"
  },
  "language_info": {
   "codemirror_mode": {
    "name": "ipython",
    "version": 3
   },
   "file_extension": ".py",
   "mimetype": "text/x-python",
   "name": "python",
   "nbconvert_exporter": "python",
   "pygments_lexer": "ipython3",
   "version": "3.11.5"
  }
 },
 "nbformat": 4,
 "nbformat_minor": 5
}
